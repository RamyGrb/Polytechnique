{
 "cells": [
  {
   "cell_type": "markdown",
   "metadata": {},
   "source": [
    "## MVA: Reinforcement Learning TP2\n",
    "# The Exploration-Exploitation Dilemna\n",
    "\n",
    "Author: Ramy Ghorayeb\n",
    "\n",
    "Date: November 2018"
   ]
  },
  {
   "cell_type": "markdown",
   "metadata": {},
   "source": [
    "**1.1 Bernoulli bandit models**"
   ]
  },
  {
   "cell_type": "code",
   "execution_count": 29,
   "metadata": {},
   "outputs": [],
   "source": [
    "import numpy as np\n",
    "import math\n",
    "import matplotlib.pyplot as plt\n",
    "import arms\n",
    "\n",
    "arm1 = arms.ArmBernoulli(0.25, random_state=np.random.randint(1, 100000))\n",
    "arm2 = arms.ArmBernoulli(0.20, random_state=np.random.randint(1, 100000))\n",
    "arm3 = arms.ArmBernoulli(0.15, random_state=np.random.randint(1, 100000))\n",
    "arm4 = arms.ArmBernoulli(0.10, random_state=np.random.randint(1, 100000))\n",
    "\n",
    "MAB = [arm1, arm2, arm3, arm4]"
   ]
  },
  {
   "cell_type": "markdown",
   "metadata": {},
   "source": [
    "1."
   ]
  },
  {
   "cell_type": "code",
   "execution_count": 112,
   "metadata": {
    "scrolled": true
   },
   "outputs": [],
   "source": [
    "def UCB1(T,MAB,rho=0.2):\n",
    "    nb_arms = len(MAB)\n",
    "    T = T + nb_arms\n",
    "    A = np.zeros(T)\n",
    "    B = np.zeros(nb_arms)    \n",
    "    N, S = np.zeros((len(MAB),T)), np.zeros((len(MAB),T))\n",
    "    \n",
    "    # initialization\n",
    "    for i in range(nb_arms):\n",
    "        print('t=',i)\n",
    "        N[i][i-1] = 1\n",
    "        S[i][i-1] = MAB[i].sample()\n",
    "\n",
    "    # for t>K    \n",
    "    for t in range(nb_arms-1,T-1):\n",
    "        print('new t=',t)        \n",
    "        for arm in range(nb_arms):\n",
    "            Na = N[arm][:t].sum()\n",
    "            Sa = S[arm][:t].sum()\n",
    "            mu = Sa/Na\n",
    "            B[arm] = mu + rho*math.sqrt(math.log(t)/(2*Na))\n",
    "        A[t+1] = np.argmax(B)\n",
    "        arm_chosen = int(A[t+1])\n",
    "        N[arm_chosen][t+1] = 1\n",
    "        S[arm_chosen][t+1] = MAB[arm_chosen].sample()     \n",
    "        \n",
    "    return S, N\n",
    "\n",
    "def TS(T,MAB):\n",
    "    nb_arms = len(MAB)\n",
    "    T = T + 1\n",
    "    A = np.zeros(T)\n",
    "    Pi = np.zeros(nb_arms)  \n",
    "    N, S = np.zeros((len(MAB),T)),np.zeros((len(MAB),T))\n",
    "    \n",
    "    # prior distribution\n",
    "    A[0] = np.argmax(np.random.rand(4))\n",
    "    arm_chosen = int(A[0])\n",
    "    N[arm_chosen][0] = 1\n",
    "    S[arm_chosen][0] = MAB[arm_chosen].sample()  \n",
    "    \n",
    "    # posterior distribution    \n",
    "    for t in range(T-1):\n",
    "        for arm in range(nb_arms):\n",
    "            Na = N[arm][:t].sum()\n",
    "            Sa = S[arm][:t].sum()\n",
    "            Pi[arm] = np.random.beta(Sa+1,Na-Sa+1)\n",
    "        A[t+1] = np.argmax(Pi)\n",
    "        arm_chosen = int(A[t+1])\n",
    "        \n",
    "        N[arm_chosen][t+1] = 1\n",
    "        S[arm_chosen][t+1] = MAB[arm_chosen].sample()   \n",
    "            \n",
    "    return S, N"
   ]
  },
  {
   "cell_type": "code",
   "execution_count": 113,
   "metadata": {},
   "outputs": [
    {
     "name": "stdout",
     "output_type": "stream",
     "text": [
      "t= 0\n",
      "t= 1\n",
      "t= 2\n",
      "t= 3\n",
      "new t= 3\n",
      "new t= 4\n",
      "new t= 5\n",
      "new t= 6\n",
      "new t= 7\n",
      "new t= 8\n",
      "new t= 9\n",
      "new t= 10\n",
      "new t= 11\n",
      "new t= 12\n"
     ]
    },
    {
     "name": "stderr",
     "output_type": "stream",
     "text": [
      "/anaconda3/lib/python3.6/site-packages/ipykernel_launcher.py:20: RuntimeWarning: invalid value encountered in double_scalars\n",
      "/anaconda3/lib/python3.6/site-packages/ipykernel_launcher.py:21: RuntimeWarning: divide by zero encountered in double_scalars\n"
     ]
    },
    {
     "data": {
      "text/plain": [
       "(array([[0., 0., 0., 0., 0., 0., 0., 0., 0., 0., 0., 0., 0., 0.],\n",
       "        [0., 0., 0., 0., 0., 0., 0., 0., 0., 0., 0., 0., 0., 0.],\n",
       "        [0., 1., 0., 0., 0., 0., 1., 0., 0., 0., 1., 0., 0., 1.],\n",
       "        [0., 0., 0., 0., 0., 0., 0., 0., 0., 0., 0., 0., 0., 0.]]),\n",
       " array([[0., 0., 0., 0., 1., 1., 0., 0., 0., 0., 0., 0., 0., 1.],\n",
       "        [1., 0., 0., 0., 0., 0., 0., 0., 0., 0., 0., 0., 0., 0.],\n",
       "        [0., 1., 0., 0., 0., 0., 1., 1., 1., 1., 1., 1., 1., 1.],\n",
       "        [0., 0., 1., 0., 0., 0., 0., 0., 0., 0., 0., 0., 0., 0.]]))"
      ]
     },
     "execution_count": 113,
     "metadata": {},
     "output_type": "execute_result"
    }
   ],
   "source": [
    "UCB1(10,MAB)\n",
    "# A LOT OF ISSUES WITH THE I AND T"
   ]
  },
  {
   "cell_type": "markdown",
   "metadata": {},
   "source": [
    "2."
   ]
  },
  {
   "cell_type": "code",
   "execution_count": null,
   "metadata": {},
   "outputs": [],
   "source": [
    "def Regret(T, MAB, Algo, n_simulations=10):\n",
    "    \n",
    "    exp_reg = []\n",
    "    \n",
    "    for s in range(n_simulations):\n",
    "        rew, draws = Algo(T, MAB)\n",
    "        exp_reg[s] = T*ps - rew.sum()"
   ]
  },
  {
   "cell_type": "code",
   "execution_count": null,
   "metadata": {},
   "outputs": [],
   "source": []
  }
 ],
 "metadata": {
  "kernelspec": {
   "display_name": "Python 3",
   "language": "python",
   "name": "python3"
  },
  "language_info": {
   "codemirror_mode": {
    "name": "ipython",
    "version": 3
   },
   "file_extension": ".py",
   "mimetype": "text/x-python",
   "name": "python",
   "nbconvert_exporter": "python",
   "pygments_lexer": "ipython3",
   "version": "3.6.5"
  }
 },
 "nbformat": 4,
 "nbformat_minor": 2
}
