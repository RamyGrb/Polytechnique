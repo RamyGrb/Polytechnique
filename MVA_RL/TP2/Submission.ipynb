{
 "cells": [
  {
   "cell_type": "markdown",
   "metadata": {},
   "source": [
    "## MVA: Reinforcement Learning TP2\n",
    "# The Exploration-Exploitation Dilemna\n",
    "\n",
    "Author: Ramy Ghorayeb\n",
    "\n",
    "Date: November 2018"
   ]
  },
  {
   "cell_type": "markdown",
   "metadata": {},
   "source": [
    "### **1.1 Bernoulli bandit models**"
   ]
  },
  {
   "cell_type": "code",
   "execution_count": 237,
   "metadata": {},
   "outputs": [],
   "source": [
    "import numpy as np\n",
    "import math\n",
    "import matplotlib.pyplot as plt\n",
    "import arms\n",
    "\n",
    "arm1 = arms.ArmBernoulli(0.30, random_state=np.random.randint(1, 100000))\n",
    "arm2 = arms.ArmBernoulli(0.20, random_state=np.random.randint(1, 100000))\n",
    "arm3 = arms.ArmBernoulli(0.15, random_state=np.random.randint(1, 100000))\n",
    "arm4 = arms.ArmBernoulli(0.10, random_state=np.random.randint(1, 100000))\n",
    "\n",
    "MAB = [arm1, arm2, arm3, arm4]"
   ]
  },
  {
   "cell_type": "markdown",
   "metadata": {},
   "source": [
    "1."
   ]
  },
  {
   "cell_type": "code",
   "execution_count": 274,
   "metadata": {
    "scrolled": true
   },
   "outputs": [],
   "source": [
    "def UCB1(T,MAB,rho=0.2):\n",
    "    nb_arms = len(MAB)\n",
    "    T = T + nb_arms\n",
    "    A = np.zeros(T)\n",
    "    B = np.zeros(nb_arms)    \n",
    "    N, S = np.zeros((len(MAB),T)), np.zeros((len(MAB),T))\n",
    "    \n",
    "    # initialization\n",
    "    for i in range(nb_arms):\n",
    "        N[i][i] = 1\n",
    "        S[i][i] = MAB[i].sample()\n",
    "\n",
    "    # for t>K    \n",
    "    for t in range(nb_arms-1,T-1):\n",
    "        for arm in range(nb_arms):\n",
    "            Na = N[arm][:t+1].sum()\n",
    "            Sa = S[arm][:t+1].sum()\n",
    "            mu = Sa/Na\n",
    "            B[arm] = mu + rho*math.sqrt(math.log(t)/(2*Na))\n",
    "        A[t+1] = np.argmax(B)\n",
    "        arm_chosen = int(A[t+1])\n",
    "        N[arm_chosen][t+1] = 1\n",
    "        S[arm_chosen][t+1] = MAB[arm_chosen].sample()     \n",
    "        \n",
    "    return S.T[nb_arms:].T, N.T[nb_arms:].T\n",
    "\n",
    "def TS(T,MAB):\n",
    "    nb_arms = len(MAB)\n",
    "    T = T + 1\n",
    "    A = np.zeros(T)\n",
    "    Pi = np.zeros(nb_arms)  \n",
    "    N, S = np.zeros((len(MAB),T)),np.zeros((len(MAB),T))\n",
    "    \n",
    "    # prior distribution\n",
    "    A[0] = np.argmax(np.random.rand(4))\n",
    "    arm_chosen = int(A[0])\n",
    "    N[arm_chosen][0] = 1\n",
    "    S[arm_chosen][0] = MAB[arm_chosen].sample()  \n",
    "    \n",
    "    # posterior distribution    \n",
    "    for t in range(T-1):\n",
    "        for arm in range(nb_arms):\n",
    "            Na = N[arm][:t+1].sum()\n",
    "            Sa = S[arm][:t+1].sum()\n",
    "            Pi[arm] = np.random.beta(Sa+1,Na-Sa+1)\n",
    "        A[t+1] = np.argmax(Pi)\n",
    "        arm_chosen = int(A[t+1])\n",
    "        \n",
    "        N[arm_chosen][t+1] = 1\n",
    "        S[arm_chosen][t+1] = MAB[arm_chosen].sample()   \n",
    "            \n",
    "    return S, N\n",
    "\n",
    "def Greedy(T,MAB):\n",
    "    N, S = np.zeros((len(MAB),T)),np.zeros((len(MAB),T))    \n",
    "    arm_chosen = np.argmax(np.array([MAB[i].p for i in range(len(MAB))]))\n",
    "    reward = max(np.array([MAB[i].p for i in range(len(MAB))]))\n",
    "    for t in range(T):\n",
    "        N[arm_chosen][t] = 1\n",
    "        S[arm_chosen][t] = MAB[arm_chosen].sample()\n",
    "    \n",
    "    return S, N"
   ]
  },
  {
   "cell_type": "markdown",
   "metadata": {},
   "source": [
    "2.\n",
    "\n",
    "Expected regret of UCB1, Thompson Sampling and Greedy policy"
   ]
  },
  {
   "cell_type": "code",
   "execution_count": 334,
   "metadata": {},
   "outputs": [],
   "source": [
    "def exp_Regret(T, MAB, Algo, n_simulations=500):\n",
    "    \n",
    "    sum_rew = np.zeros((n_simulations,T))\n",
    "    reg = np.zeros(T)\n",
    "    \n",
    "    for s in range(n_simulations):\n",
    "        rew, draws = Algo(T, MAB)\n",
    "        for t in range(T):\n",
    "            sum_rew[s][t] =  rew.T[:t].sum()\n",
    "\n",
    "    rho_s = max([MAB[i].p for i in range(len(MAB))])\n",
    "\n",
    "    for t in range(T):\n",
    "        esp_rew = sum_rew.T[t].mean()\n",
    "        reg[t] = (t+1)*rho_s - esp_rew\n",
    "            \n",
    "    return reg"
   ]
  },
  {
   "cell_type": "code",
   "execution_count": 339,
   "metadata": {},
   "outputs": [
    {
     "name": "stdout",
     "output_type": "stream",
     "text": [
      "Estimated expected regret of UCB1 algorithm:  34.148000000000025\n",
      "Estimated expected regret of TS algorithm:  23.091999999999985\n",
      "Estimated expected regret of Greedy algorithm:  -1.363999999999976\n"
     ]
    }
   ],
   "source": [
    "exp_reg_UCB1 = exp_Regret(1000, MAB, UCB1, n_simulations=250)\n",
    "print('Estimated expected regret of UCB1 algorithm: ',exp_reg_UCB1[-1])\n",
    "\n",
    "exp_reg_TS = exp_Regret(1000, MAB, TS, n_simulations=250)\n",
    "print('Estimated expected regret of TS algorithm: ',exp_reg_TS[-1])\n",
    "\n",
    "exp_reg_Greedy = exp_Regret(1000, MAB, Greedy, n_simulations=250)\n",
    "print('Estimated expected regret of Greedy algorithm: ',exp_reg_Greedy[-1])"
   ]
  },
  {
   "cell_type": "code",
   "execution_count": 340,
   "metadata": {
    "scrolled": true
   },
   "outputs": [
    {
     "data": {
      "text/plain": [
       "<matplotlib.legend.Legend at 0x11f610d30>"
      ]
     },
     "execution_count": 340,
     "metadata": {},
     "output_type": "execute_result"
    },
    {
     "data": {
      "image/png": "[encoded data removed]",
      "text/plain": [
       "<Figure size 432x288 with 1 Axes>"
      ]
     },
     "metadata": {},
     "output_type": "display_data"
    }
   ],
   "source": [
    "plt.plot(exp_reg_UCB1,label='UCB1')\n",
    "plt.plot(exp_reg_TS,label='TS')\n",
    "plt.plot(exp_reg_Greedy,label='Greedy')\n",
    "plt.title('Convergence of the expected regret')\n",
    "plt.legend()"
   ]
  },
  {
   "cell_type": "markdown",
   "metadata": {},
   "source": [
    "3."
   ]
  },
  {
   "cell_type": "code",
   "execution_count": 402,
   "metadata": {},
   "outputs": [],
   "source": [
    "def Complexity(MAB):\n",
    "    nb_arms = len(MAB)\n",
    "    ps = max([MAB[i].p for i in range(nb_arms)])\n",
    "    C = np.zeros(nb_arms)\n",
    "    \n",
    "    def kl(x,y):\n",
    "        return x*math.log(x/y)+(1-x)*math.log((1-x)/(1-y))\n",
    "    \n",
    "    for arm in range(nb_arms):\n",
    "        pa = MAB[arm].p\n",
    "        if pa != ps:\n",
    "            C[arm] = (ps - pa)/kl(pa,ps)\n",
    "    return C.sum()"
   ]
  },
  {
   "cell_type": "code",
   "execution_count": 403,
   "metadata": {},
   "outputs": [],
   "source": [
    "def Oracle(T, MAB):\n",
    "    C = np.zeros(1000)\n",
    "    for t in range(T):\n",
    "        C[t] = Complexity(MAB)*math.log(t+1)\n",
    "    return C"
   ]
  },
  {
   "cell_type": "code",
   "execution_count": 404,
   "metadata": {},
   "outputs": [
    {
     "data": {
      "text/plain": [
       "<matplotlib.legend.Legend at 0x12541c128>"
      ]
     },
     "execution_count": 404,
     "metadata": {},
     "output_type": "execute_result"
    },
    {
     "data": {
      "image/png": "[encoded data removed]",
      "text/plain": [
       "<Figure size 432x288 with 1 Axes>"
      ]
     },
     "metadata": {},
     "output_type": "display_data"
    }
   ],
   "source": [
    "exp_reg_Oracle = Oracle(1000,MAB)\n",
    "\n",
    "plt.plot(exp_reg_UCB1,label='UCB1')\n",
    "plt.plot(exp_reg_TS,label='TS')\n",
    "plt.plot(exp_reg_Oracle,label='Oracle')\n",
    "plt.title('Convergence of the expected regret')\n",
    "plt.legend()"
   ]
  },
  {
   "cell_type": "markdown",
   "metadata": {},
   "source": [
    "The graph is strange and could seem in contradiction with Lai and Robbins lower bound but the oracle regret curbe is not under UCB1's and TS' because T is not converging to infinity"
   ]
  },
  {
   "cell_type": "markdown",
   "metadata": {},
   "source": [
    "**Q1**"
   ]
  },
  {
   "cell_type": "code",
   "execution_count": 405,
   "metadata": {},
   "outputs": [],
   "source": [
    "arm1 = arms.ArmBernoulli(0.25, random_state=np.random.randint(1, 100000))\n",
    "arm2 = arms.ArmBernoulli(0.20, random_state=np.random.randint(1, 100000))\n",
    "arm3 = arms.ArmBernoulli(0.15, random_state=np.random.randint(1, 100000))\n",
    "arm4 = arms.ArmBernoulli(0.10, random_state=np.random.randint(1, 100000))\n",
    "\n",
    "MAB1 = [arm1, arm2, arm3, arm4]\n",
    "\n",
    "arm5 = arms.ArmBernoulli(0.45, random_state=np.random.randint(1, 100000))\n",
    "arm6 = arms.ArmBernoulli(0.30, random_state=np.random.randint(1, 100000))\n",
    "arm7 = arms.ArmBernoulli(0.25, random_state=np.random.randint(1, 100000))\n",
    "arm8 = arms.ArmBernoulli(0.20, random_state=np.random.randint(1, 100000))\n",
    "\n",
    "MAB2 = [arm5, arm6, arm7, arm8]"
   ]
  },
  {
   "cell_type": "code",
   "execution_count": 409,
   "metadata": {},
   "outputs": [
    {
     "name": "stdout",
     "output_type": "stream",
     "text": [
      "MAB1: ---\n",
      "Estimated expected regret of UCB1 algorithm:  34.148000000000025\n",
      "Estimated expected regret of TS algorithm:  23.091999999999985\n",
      "Estimated expected regret of Oracle:  55.69132534779637\n",
      "MAB2: ---\n",
      "Estimated expected regret of UCB1 algorithm:  34.148000000000025\n",
      "Estimated expected regret of TS algorithm:  23.091999999999985\n",
      "Estimated expected regret of Oracle:  55.69132534779637\n"
     ]
    }
   ],
   "source": [
    "print('MAB1: ---')\n",
    "exp_reg_UCB11 = exp_Regret(1000, MAB1, UCB1, n_simulations=250)\n",
    "print('Estimated expected regret of UCB1 algorithm: ',exp_reg_UCB1[-1])\n",
    "exp_reg_TS1 = exp_Regret(1000, MAB1, TS, n_simulations=250)\n",
    "print('Estimated expected regret of TS algorithm: ',exp_reg_TS[-1])\n",
    "exp_reg_Oracle1 = Oracle(1000,MAB1)\n",
    "print('Estimated expected regret of Oracle: ',exp_reg_Oracle[-1])\n",
    "\n",
    "print('MAB2: ---')\n",
    "exp_reg_UCB12 = exp_Regret(1000, MAB2, UCB1, n_simulations=250)\n",
    "print('Estimated expected regret of UCB1 algorithm: ',exp_reg_UCB1[-1])\n",
    "exp_reg_TS2 = exp_Regret(1000, MAB2, TS, n_simulations=250)\n",
    "print('Estimated expected regret of TS algorithm: ',exp_reg_TS[-1])\n",
    "exp_reg_Oracle2 = Oracle(1000,MAB2)\n",
    "print('Estimated expected regret of Oracle: ',exp_reg_Oracle[-1])"
   ]
  },
  {
   "cell_type": "code",
   "execution_count": 411,
   "metadata": {},
   "outputs": [
    {
     "data": {
      "text/plain": [
       "<matplotlib.legend.Legend at 0x12555e828>"
      ]
     },
     "execution_count": 411,
     "metadata": {},
     "output_type": "execute_result"
    },
    {
     "data": {
      "image/png": "[encoded data removed]",
      "text/plain": [
       "<Figure size 432x288 with 1 Axes>"
      ]
     },
     "metadata": {},
     "output_type": "display_data"
    }
   ],
   "source": [
    "plt.plot(exp_reg_UCB11,label='UCB1')\n",
    "plt.plot(exp_reg_TS1,label='TS')\n",
    "plt.plot(exp_reg_Oracle1,label='Oracle')\n",
    "plt.title('Convergence of the expected regret (MAB1)')\n",
    "plt.legend()"
   ]
  },
  {
   "cell_type": "code",
   "execution_count": 412,
   "metadata": {},
   "outputs": [
    {
     "data": {
      "text/plain": [
       "<matplotlib.legend.Legend at 0x1257bbf60>"
      ]
     },
     "execution_count": 412,
     "metadata": {},
     "output_type": "execute_result"
    },
    {
     "data": {
      "image/png": "[encoded data removed]",
      "text/plain": [
       "<Figure size 432x288 with 1 Axes>"
      ]
     },
     "metadata": {},
     "output_type": "display_data"
    }
   ],
   "source": [
    "plt.plot(exp_reg_UCB12,label='UCB1')\n",
    "plt.plot(exp_reg_TS2,label='TS')\n",
    "plt.plot(exp_reg_Oracle2,label='Oracle')\n",
    "plt.title('Convergence of the expected regret (MAB2)')\n",
    "plt.legend()"
   ]
  },
  {
   "cell_type": "markdown",
   "metadata": {},
   "source": [
    "We can see that UCB1's expected regret in MAB2 case has crossed the curve of Oracle, helping us viewing the  Lai and Robbins lower bound when T converging to infinity "
   ]
  },
  {
   "cell_type": "markdown",
   "metadata": {},
   "source": [
    "### **1.2 Non-parametric bandits (bounded rewards)**"
   ]
  },
  {
   "cell_type": "markdown",
   "metadata": {},
   "source": [
    "1."
   ]
  },
  {
   "cell_type": "code",
   "execution_count": 413,
   "metadata": {},
   "outputs": [],
   "source": [
    "arm1 = arms.ArmBernoulli(0.45, random_state=np.random.randint(1, 100000))\n",
    "arm2 = arms.ArmBeta(2,3, random_state=np.random.randint(1, 100000))\n",
    "arm3 = arms.ArmExp(2, random_state=np.random.randint(1, 100000))\n",
    "arm4 = arms.ArmBernoulli(0.10, random_state=np.random.randint(1, 100000))\n",
    "\n",
    "MAB = [arm1, arm2, arm3, arm4]"
   ]
  },
  {
   "cell_type": "markdown",
   "metadata": {},
   "source": [
    "2. **NOT COMPLETED**"
   ]
  },
  {
   "cell_type": "code",
   "execution_count": null,
   "metadata": {},
   "outputs": [],
   "source": [
    "def TS_adapted(T,MAB):\n",
    "    nb_arms = len(MAB)\n",
    "    T = T + 1\n",
    "    A = np.zeros(T)\n",
    "    Pi = np.zeros(nb_arms)  \n",
    "    N, S = np.zeros((len(MAB),T)),np.zeros((len(MAB),T))\n",
    "    \n",
    "    # prior distribution\n",
    "    A[0] = np.argmax(np.random.rand(4))\n",
    "    arm_chosen = int(A[0])\n",
    "    N[arm_chosen][0] = 1\n",
    "    S[arm_chosen][0] = MAB[arm_chosen].sample()  \n",
    "    \n",
    "    # posterior distribution    \n",
    "    for t in range(T-1):\n",
    "        for arm in range(nb_arms):\n",
    "            Na = N[arm][:t+1].sum()\n",
    "            Sa = S[arm][:t+1].sum()\n",
    "            # modify with a new distribution\n",
    "            Pi[arm] = np.random.beta(Sa+1,Na-Sa+1)\n",
    "        A[t+1] = np.argmax(Pi)\n",
    "        arm_chosen = int(A[t+1])\n",
    "        \n",
    "        N[arm_chosen][t+1] = 1\n",
    "        S[arm_chosen][t+1] = MAB[arm_chosen].sample()   \n",
    "            \n",
    "    return S, N"
   ]
  },
  {
   "cell_type": "markdown",
   "metadata": {},
   "source": [
    "**Q2**"
   ]
  },
  {
   "cell_type": "code",
   "execution_count": null,
   "metadata": {},
   "outputs": [],
   "source": []
  },
  {
   "cell_type": "markdown",
   "metadata": {},
   "source": [
    "## 2. Linear Bandit on Real Data"
   ]
  },
  {
   "cell_type": "code",
   "execution_count": null,
   "metadata": {},
   "outputs": [],
   "source": []
  }
 ],
 "metadata": {
  "kernelspec": {
   "display_name": "Python 3",
   "language": "python",
   "name": "python3"
  },
  "language_info": {
   "codemirror_mode": {
    "name": "ipython",
    "version": 3
   },
   "file_extension": ".py",
   "mimetype": "text/x-python",
   "name": "python",
   "nbconvert_exporter": "python",
   "pygments_lexer": "ipython3",
   "version": "3.6.5"
  }
 },
 "nbformat": 4,
 "nbformat_minor": 2
}
