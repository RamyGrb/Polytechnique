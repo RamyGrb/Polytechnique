{
 "cells": [
  {
   "cell_type": "markdown",
   "metadata": {},
   "source": [
    "# Reinforcement Learning with Function Approximation\n",
    "\n",
    "Author: Ramy Ghorayeb\n",
    "    \n",
    "Date: December 2018"
   ]
  },
  {
   "cell_type": "code",
   "execution_count": 1,
   "metadata": {},
   "outputs": [],
   "source": [
    "import math\n",
    "import numpy as np\n",
    "import matplotlib.pyplot as plt\n",
    "from lqg1d import LQG1D"
   ]
  },
  {
   "cell_type": "markdown",
   "metadata": {},
   "source": [
    "## 1. On-Policy Reinforcement Learning with Parametric Policy"
   ]
  },
  {
   "cell_type": "markdown",
   "metadata": {},
   "source": [
    "### 1.1 Trajectory-based formulation and REINFORCE"
   ]
  },
  {
   "cell_type": "code",
   "execution_count": 2,
   "metadata": {},
   "outputs": [],
   "source": [
    "def REINFORCE(env, policy, update_rule, k_iterations, N, T, gamma):\n",
    "    \n",
    "    Theta = np.zeros(k_iterations)\n",
    "    Theta[0] = policy.theta\n",
    "    grad_J = np.zeros(N)\n",
    "    \n",
    "    for k in range(1,k_iterations):\n",
    "        for n in range(N):\n",
    "            S,A,R = simulation(env, policy, T)\n",
    "            grad_J[n] = grad_discounted_reward(policy, S, A, R, gamma)\n",
    "        grad_J_est = np.mean(grad_J)\n",
    "        theta = Theta[k-1] + update_rule.fn(k-1,grad_J_est)\n",
    "        Theta[k] = theta\n",
    "        policy.new_theta(theta)\n",
    "        \n",
    "    return Theta\n",
    "    \n",
    "def simulation(env, policy, T):\n",
    "    A,S,R = np.zeros(T),np.zeros(T),np.zeros(T)\n",
    "    env.reset()\n",
    "    S[0] = env.state\n",
    "    for t in range(T-1):\n",
    "        A[t] = policy.action(env.state[0])\n",
    "        next_state, R[t], boolean, array = env.step(A[t])\n",
    "        S[t+1] = next_state[0]\n",
    "    A[T-1] = policy.action(env.state)\n",
    "    last_state, R[T-1], boolean, array = env.step(A[t]) \n",
    "        \n",
    "    return S,A,R\n",
    "\n",
    "def discounted_reward(rewards,gamma):\n",
    "    reward = 0\n",
    "    for r in rewards:\n",
    "        reward = (reward + r)*gamma\n",
    "    reward = reward/gamma\n",
    "    return reward\n",
    "\n",
    "def grad_discounted_reward(policy, S, A, R, gamma):\n",
    "    T = len(R)\n",
    "    grad_J = 0\n",
    "    for t in range(T):\n",
    "        grad_theta, grad_sigma = policy.gradient(A[t], S[t])\n",
    "        grad_J += grad_theta\n",
    "    grad_J = grad_J * discounted_reward(R, gamma)\n",
    "    return grad_J"
   ]
  },
  {
   "cell_type": "code",
   "execution_count": 262,
   "metadata": {},
   "outputs": [],
   "source": [
    "def REINFORCE(env, policy, update_rule, k_iterations, N, T, gamma):\n",
    "    \n",
    "    Theta = np.zeros(k_iterations)\n",
    "    Theta[0] = policy.theta\n",
    "    grad_J = np.zeros(N)\n",
    "    \n",
    "    for k in range(1,k_iterations):\n",
    "        for n in range(N):\n",
    "            S,A,R = simulation(env, policy, T)\n",
    "            grad_J[n] = grad_discounted_reward(policy, S, A, R, gamma)\n",
    "        grad_J_est = np.mean(grad_J)\n",
    "        theta = Theta[k-1] + update_rule.fn(k-1,grad_J_est)\n",
    "        Theta[k] = theta\n",
    "        policy.new_theta(theta)\n",
    "        \n",
    "    return Theta\n",
    "    \n",
    "def simulation(env, policy, T):\n",
    "    A,S,R = np.zeros(T),np.zeros(T),np.zeros(T)\n",
    "    env.reset()\n",
    "    S[0] = env.state\n",
    "    for t in range(T-1):\n",
    "        A[t] = policy.action(env.state)\n",
    "        R[t] = env.reward(S[t], A[t])\n",
    "        S[t+1] = env.next_step(S[t], A[t])\n",
    "    A[T-1] = policy.action(env.state)\n",
    "    R[T-1] = env.reward(S[T-1], A[T-1])\n",
    "        \n",
    "    return S,A,R\n",
    "\n",
    "def discounted_reward(rewards,gamma):\n",
    "    reward = 0\n",
    "    for r in rewards:\n",
    "        reward = (reward + r)*gamma\n",
    "    reward = reward/gamma\n",
    "    return reward\n",
    "\n",
    "def grad_discounted_reward(policy, S, A, R, gamma):\n",
    "    T = len(R)\n",
    "    grad_J = 0\n",
    "    for t in range(T):\n",
    "        grad_theta, grad_sigma = policy.gradient(A[t], S[t])\n",
    "        grad_J += grad_theta\n",
    "    grad_J = grad_J * discounted_reward(R, gamma)\n",
    "    return grad_J"
   ]
  },
  {
   "cell_type": "code",
   "execution_count": 16,
   "metadata": {},
   "outputs": [],
   "source": [
    "# Gaussian policy\n",
    "\n",
    "class Gaussian(object):\n",
    "    def __init__(self, sigma):\n",
    "        self.theta = 1 - 2*np.random.random()\n",
    "        self.sigma = sigma\n",
    "    \n",
    "    def action(self,s):\n",
    "        a = np.random.normal(self.theta * s, self.sigma**2)\n",
    "        return a\n",
    "    \n",
    "    def gradient(self, a, s):\n",
    "        mu = self.theta * s\n",
    "        grad_mu = s\n",
    "        grad_theta = (a - mu)/(self.sigma**2) * s\n",
    "        grad_sigma = ((a - mu)**2 - self.sigma**2)/(self.sigma**3) * grad_mu\n",
    "        return grad_theta, grad_sigma\n",
    "    \n",
    "    def new_theta(self, theta):\n",
    "        self.theta = theta"
   ]
  },
  {
   "cell_type": "markdown",
   "metadata": {},
   "source": [
    "### 1.3. Gradient-based update rule"
   ]
  },
  {
   "cell_type": "code",
   "execution_count": 4,
   "metadata": {},
   "outputs": [],
   "source": [
    "# standard update rule\n",
    "\n",
    "class Standard_Update(object):\n",
    "    def __init__(self, alpha):\n",
    "        self.alpha = alpha\n",
    "\n",
    "    def fn(self, t, grad_J):\n",
    "        return self.alpha(t) * grad_J"
   ]
  },
  {
   "cell_type": "markdown",
   "metadata": {},
   "source": [
    "### 1.4. Experiments: Linear-quadratic Gaussian regulation problem (LQG problem)"
   ]
  },
  {
   "cell_type": "code",
   "execution_count": 5,
   "metadata": {},
   "outputs": [],
   "source": [
    "# LQG definition\n",
    "\n",
    "class LQG(object):\n",
    "    def __init__(self, A, B, Q, R, sigma0):\n",
    "        s0 = np.random.random()*40-20\n",
    "        self.state = s0\n",
    "        self.A = A\n",
    "        self.B = B\n",
    "        self.Q = Q\n",
    "        self.R = R\n",
    "        self.sigma0 = sigma0\n",
    "    \n",
    "    def next_step(self, s, a):\n",
    "        self.state = np.random.normal(self.A*s + self.B*a, self.sigma0**2)\n",
    "        return self.state\n",
    "    \n",
    "    def reward(self, s, a):\n",
    "        r = -0.5*(s*self.Q*s + a*self.R*a)\n",
    "        return r\n",
    "    \n",
    "    def reset(self):\n",
    "        self.state = np.random.random()*40-20"
   ]
  },
  {
   "cell_type": "markdown",
   "metadata": {},
   "source": [
    "### Q1: Implement REINFORCE with Gaussiana policy model"
   ]
  },
  {
   "cell_type": "markdown",
   "metadata": {},
   "source": [
    "The variance of $J$ is extremely high, making the algorithm very unstable. \n",
    "We could raise N but the computational power required quickly gets off limits (it is N-proportional).\n",
    "One easy trick to solve that is to have a very high standard deviation but it is very restraining for the policy actions"
   ]
  },
  {
   "cell_type": "code",
   "execution_count": 340,
   "metadata": {},
   "outputs": [
    {
     "name": "stdout",
     "output_type": "stream",
     "text": [
      "iteration: 1\n",
      "iteration: 2\n",
      "iteration: 3\n",
      "iteration: 4\n",
      "iteration: 5\n",
      "iteration: 6\n",
      "iteration: 7\n",
      "iteration: 8\n",
      "iteration: 9\n",
      "iteration: 10\n"
     ]
    }
   ],
   "source": [
    "# Case considered: 1-dimensional problem with standard_deviation = 0.4\n",
    "# env = LQG( A=1, B=1, Q=1, R=1, sigma0=0)\n",
    "env = LQG1D('random')\n",
    "policy = Gaussian(sigma=0.5)\n",
    "update_rule = Standard_Update(alpha = lambda t:0.005/(t+1))\n",
    "theta_s = -0.6\n",
    "\n",
    "Theta = np.zeros((10,50))\n",
    "for t in range(10):\n",
    "    print('iteration:',t+1)\n",
    "    Theta[t] = REINFORCE(env, policy, update_rule, k_iterations=50, N=50, T=100, gamma=0.9)"
   ]
  },
  {
   "cell_type": "code",
   "execution_count": 346,
   "metadata": {
    "scrolled": false
   },
   "outputs": [
    {
     "data": {
      "text/plain": [
       "[<matplotlib.lines.Line2D at 0x11f82b5f8>]"
      ]
     },
     "execution_count": 346,
     "metadata": {},
     "output_type": "execute_result"
    },
    {
     "data": {
      "image/png": "[encoded data removed]",
      "text/plain": [
       "<Figure size 432x288 with 1 Axes>"
      ]
     },
     "metadata": {},
     "output_type": "display_data"
    }
   ],
   "source": [
    "est_Theta = np.mean(Theta,axis=0)\n",
    "plt.plot(theta_s*np.ones(50) - est_Theta)"
   ]
  },
  {
   "cell_type": "markdown",
   "metadata": {},
   "source": [
    "$\\alpha_t$ is the learning rate monitoring the speed of convergence. If it is too small, the convergence will be too slow. If it is too big, the convergence becomes unstable.\n",
    "\n",
    "$N$ is the number of episodes used to estimate the gradients. The bigger the better in terms of variance minimisation. But as the computation time is proportional to N, there is a time-performance trade-off to deal with."
   ]
  },
  {
   "cell_type": "code",
   "execution_count": 27,
   "metadata": {
    "scrolled": true
   },
   "outputs": [
    {
     "name": "stdout",
     "output_type": "stream",
     "text": [
      "iteration: 1\n",
      "iteration: 2\n",
      "iteration: 3\n",
      "iteration: 4\n",
      "iteration: 5\n"
     ]
    }
   ],
   "source": [
    "# Case considered: 1-dimensional problem with standard_deviation = 0.4\n",
    "# env = LQG( A=1, B=1, Q=1, R=1, sigma0=0)\n",
    "env = LQG1D('random')\n",
    "policy = Gaussian(sigma=50)\n",
    "update_rule = Standard_Update(alpha = lambda t:0.1)\n",
    "theta_s = -0.6\n",
    "\n",
    "Theta = np.zeros((10,50))\n",
    "for t in range(5):\n",
    "    print('iteration:',t+1)\n",
    "    Theta[t] = REINFORCE(env, policy, update_rule, k_iterations=50, N=100, T=100, gamma=0.9)"
   ]
  },
  {
   "cell_type": "code",
   "execution_count": 28,
   "metadata": {},
   "outputs": [
    {
     "data": {
      "text/plain": [
       "[<matplotlib.lines.Line2D at 0x10676fb00>]"
      ]
     },
     "execution_count": 28,
     "metadata": {},
     "output_type": "execute_result"
    },
    {
     "data": {
      "image/png": "[encoded data removed]",
      "text/plain": [
       "<Figure size 432x288 with 1 Axes>"
      ]
     },
     "metadata": {},
     "output_type": "display_data"
    }
   ],
   "source": [
    "est_Theta = np.mean(Theta,axis=0)\n",
    "plt.plot(theta_s*np.ones(50) - est_Theta)"
   ]
  },
  {
   "cell_type": "markdown",
   "metadata": {},
   "source": [
    "### 1.5 Exploration in Policy Gradient"
   ]
  },
  {
   "cell_type": "markdown",
   "metadata": {},
   "source": [
    "MBIE-BE and count based exploration"
   ]
  },
  {
   "cell_type": "code",
   "execution_count": null,
   "metadata": {},
   "outputs": [],
   "source": [
    "# exploration bonus\n",
    "\n",
    "class bonus(object):\n",
    "    def __init__(self, R, N, phi):\n",
    "        self.Beta= Omega(np.max(R)/(1-))\n",
    "        self.N = N\n",
    "        self.phi = phi\n",
    "        \n",
    "    def fn(self,s,a):\n",
    "        b = self.Beta * math.sqrt(1/self.N(self.phi(s,a)))\n",
    "        return b"
   ]
  }
 ],
 "metadata": {
  "kernelspec": {
   "display_name": "Python 3",
   "language": "python",
   "name": "python3"
  },
  "language_info": {
   "codemirror_mode": {
    "name": "ipython",
    "version": 3
   },
   "file_extension": ".py",
   "mimetype": "text/x-python",
   "name": "python",
   "nbconvert_exporter": "python",
   "pygments_lexer": "ipython3",
   "version": "3.6.5"
  }
 },
 "nbformat": 4,
 "nbformat_minor": 2
}
