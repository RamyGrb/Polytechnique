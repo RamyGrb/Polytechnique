{
 "cells": [
  {
   "cell_type": "markdown",
   "metadata": {},
   "source": [
    "# Deep Learning for NLP - Project"
   ]
  },
  {
   "cell_type": "markdown",
   "metadata": {},
   "source": [
    "RULES:\n",
    "\n",
    "* Do not create any additional cell\n",
    "\n",
    "* Fill in the blanks\n",
    "\n",
    "* All cells should be runnable (modulo trivial compatibility bugs that we'd fix)\n",
    "\n",
    "* 4 / 20 points will be allocated to the clarity of your code\n",
    "\n",
    "* Efficient code will have a bonus\n",
    "\n",
    "DELIVERABLE:\n",
    "\n",
    "* this notebook\n",
    "* the predictions of the SST test set\n",
    "\n",
    "DO NOT INCLUDE THE DATASETS IN THE DELIVERABLE.."
   ]
  },
  {
   "cell_type": "code",
   "execution_count": 1,
   "metadata": {},
   "outputs": [],
   "source": [
    "import io\n",
    "import os\n",
    "import numpy as np\n",
    "import scipy"
   ]
  },
  {
   "cell_type": "code",
   "execution_count": 2,
   "metadata": {},
   "outputs": [],
   "source": [
    "# Download and load\n",
    "# https://s3.amazonaws.com/senteval/others/crawl-300d-200k.vec\n",
    "\n",
    "PATH_TO_DATA = \"./data/\""
   ]
  },
  {
   "cell_type": "markdown",
   "metadata": {},
   "source": [
    "# 1) Monolingual (English) word embeddings "
   ]
  },
  {
   "cell_type": "code",
   "execution_count": 3,
   "metadata": {},
   "outputs": [],
   "source": [
    "class Word2vec():\n",
    "    def __init__(self, fname, nmax=200000):\n",
    "        self.load_wordvec(fname, nmax)\n",
    "        self.word2id = {word: i for i, word in enumerate(self.word2vec.keys())} #edited because it was not working\n",
    "        self.id2word = {v: k for k, v in self.word2id.items()}\n",
    "        self.embeddings = np.array(list(self.word2vec.values())) #edited because it was not working\n",
    "    \n",
    "    def load_wordvec(self, fname, nmax):\n",
    "        self.word2vec = {}\n",
    "        with io.open(fname, encoding='utf-8') as f:\n",
    "            next(f)\n",
    "            for i, line in enumerate(f):\n",
    "                word, vec = line.split(' ', 1)\n",
    "                self.word2vec[word] = np.fromstring(vec, sep=' ')\n",
    "                if i == (nmax - 1):\n",
    "                    break\n",
    "        print('Loaded %s pretrained word vectors' % (len(self.word2vec)))\n",
    "\n",
    "    def most_similar(self, w, K=5):\n",
    "        # K most similar words: self.score  -  np.argsort\n",
    "        similar_words = []\n",
    "        dict_scores = {self.score(w, vec2):vec2 for vec2 in self.word2vec.keys() }\n",
    "        sorted_scores = sorted(dict_scores.keys())\n",
    "        for k in range(2,K+2):\n",
    "            score = sorted_scores[-k]\n",
    "            similar_words.append((dict_scores[score],score))\n",
    "        return similar_words\n",
    "\n",
    "    def score(self, w1, w2):\n",
    "        # cosine similarity: np.dot  -  np.linalg.norm\n",
    "        vec1, vec2 = self.word2vec[w1], self.word2vec[w2]\n",
    "        return np.dot(vec1,vec2) / (np.linalg.norm(vec1) * np.linalg.norm(vec2))"
   ]
  },
  {
   "cell_type": "code",
   "execution_count": 4,
   "metadata": {},
   "outputs": [
    {
     "name": "stdout",
     "output_type": "stream",
     "text": [
      "Loaded 200000 pretrained word vectors\n",
      "cat dog 0.671683666279249\n",
      "dog pet 0.6842064029669219\n",
      "dogs cats 0.7074389328052403\n",
      "paris france 0.7775108541288558\n",
      "germany berlin 0.7420295235998394\n",
      "[('cats', 0.8353184714264993), ('kitty', 0.8034410478493814), ('kitten', 0.8024762062392743), ('feline', 0.768065407691186), ('kitties', 0.7237089223394708)]\n",
      "[('dogs', 0.855207916336258), ('puppy', 0.784569427961543), ('Dog', 0.7511571638004245), ('doggie', 0.744241335717672), ('canine', 0.7421250622701407)]\n",
      "[('dog', 0.855207916336258), ('pooches', 0.7712664737679777), ('Dogs', 0.7704396457434113), ('doggies', 0.7699192773615036), ('canines', 0.7527040042648147)]\n",
      "[('france', 0.7775108541288558), ('Paris', 0.6845140397494098), ('parisian', 0.6786518975224022), ('london', 0.6728545431461277), ('berlin', 0.6424447628126261)]\n",
      "[('austria', 0.7687671987529507), ('europe', 0.7597591231074469), ('german', 0.7445826305760618), ('berlin', 0.7420295235998394), ('poland', 0.723670565727986)]\n"
     ]
    }
   ],
   "source": [
    "w2v = Word2vec(os.path.join(PATH_TO_DATA, 'crawl-300d-200k.vec'), nmax=200000)\n",
    "\n",
    "# You will be evaluated on the output of the following:\n",
    "for w1, w2 in zip(('cat', 'dog', 'dogs', 'paris', 'germany'), ('dog', 'pet', 'cats', 'france', 'berlin')):\n",
    "    print(w1, w2, w2v.score(w1, w2))\n",
    "for w1 in ['cat', 'dog', 'dogs', 'paris', 'germany']:\n",
    "    print(w2v.most_similar(w1))"
   ]
  },
  {
   "cell_type": "code",
   "execution_count": 5,
   "metadata": {},
   "outputs": [],
   "source": [
    "class BoV():\n",
    "    def __init__(self, w2v):\n",
    "        self.w2v = w2v\n",
    "    \n",
    "    def encode(self, sentences, idf=False):\n",
    "        # takes a list of sentences, outputs a numpy array of sentence embeddings\n",
    "        # see TP1 for help\n",
    "        sentemb = []\n",
    "        \n",
    "        for sent in sentences:\n",
    "            if idf is False:\n",
    "                words_emb = [self.w2v.embeddings[self.w2v.word2id[word]] for word in sent.split() if word in self.w2v.word2id]\n",
    "                if len(words_emb) != 0:\n",
    "                    sentemb.append(np.mean(words_emb,axis=0))\n",
    "            else:\n",
    "                words_emb = [self.w2v.embeddings[self.w2v.word2id[word]]*idf[word] for word in sent.split() if word in self.w2v.word2id]\n",
    "                if len(words_emb) != 0:\n",
    "                    sentemb.append(np.mean(words_emb,axis=0))\n",
    "        \n",
    "        return np.vstack(sentemb)\n",
    "\n",
    "    def most_similar(self, s, sentences, idf=False, K=5):\n",
    "        # get most similar sentences and **print** them\n",
    "        similar_sentences = []\n",
    "        dict_scores = {}\n",
    "        for i,s2 in enumerate(sentences):\n",
    "            dict_scores[self.score(s, s2)] = s2\n",
    "        #dict_scores = {self.score(s, s2):s2 for s2 in sentences}\n",
    "        sorted_scores = sorted(dict_scores.keys())\n",
    "        for k in range(2,K+2):\n",
    "            score = sorted_scores[-k]\n",
    "            similar_sentences.append((dict_scores[score],score))\n",
    "        return similar_sentences\n",
    "        \n",
    "    def score(self, s1, s2, idf=False):\n",
    "        # cosine similarity: use   np.dot  and  np.linalg.norm\n",
    "        vec1 = self.encode([s1],idf).squeeze()\n",
    "        vec2 = self.encode([s2],idf).squeeze()\n",
    "        return np.dot(vec1,vec2) / (np.linalg.norm(vec1) * np.linalg.norm(vec2))\n",
    "    \n",
    "    def build_idf(self, sentences):\n",
    "        # build the idf dictionary: associate each word to its idf value\n",
    "        idf = {}\n",
    "        for sent in sentences:\n",
    "            for w in set(sent.split()):\n",
    "                idf[w] = idf.get(w, 0) + 1\n",
    "        \n",
    "        for w in idf.keys():\n",
    "            idf[w] = max(1, np.log10(len(sentences) / (idf[w])))\n",
    "            \n",
    "        return idf"
   ]
  },
  {
   "cell_type": "code",
   "execution_count": 6,
   "metadata": {},
   "outputs": [
    {
     "name": "stdout",
     "output_type": "stream",
     "text": [
      "Loaded 200000 pretrained word vectors\n",
      "[('an african american man smiling .', 0.9170453357707757), ('a little african american boy and girl looking up .', 0.8498556003875812), ('an afican american woman standing behind two small african american children .', 0.8217139139540895), ('an african american man is sitting .', 0.8207047384633509), ('a girl in black hat holding an african american baby .', 0.8191122491011851)]\n",
      "0.5726258859719607\n",
      "[('an african american man smiling .', 0.9170453357707757), ('a little african american boy and girl looking up .', 0.8498556003875812), ('an afican american woman standing behind two small african american children .', 0.8217139139540895), ('an african american man is sitting .', 0.8207047384633509), ('a girl in black hat holding an african american baby .', 0.8191122491011851)]\n",
      "0.4751450875368782\n"
     ]
    }
   ],
   "source": [
    "w2v = Word2vec(os.path.join(PATH_TO_DATA, 'crawl-300d-200k.vec'), nmax=200000)\n",
    "s2v = BoV(w2v)\n",
    "\n",
    "# Load sentences in \"PATH_TO_DATA/sentences.txt\"\n",
    "def load_sentences(location):\n",
    "    sentences = []\n",
    "    with io.open(location, encoding='utf-8') as f:\n",
    "        for line in f:\n",
    "            sentences.append(line.rstrip())\n",
    "        return sentences\n",
    "\n",
    "sentences = load_sentences(os.path.join(PATH_TO_DATA, 'sentences.txt'))\n",
    "\n",
    "# Build idf scores for each word\n",
    "idf = s2v.build_idf(sentences)\n",
    "\n",
    "# You will be evaluated on the output of the following:\n",
    "print(s2v.most_similar('' if not sentences else sentences[10], sentences))  # BoV-mean\n",
    "print(s2v.score('' if not sentences else sentences[7], '' if not sentences else sentences[13]))\n",
    "\n",
    "idf = s2v.build_idf(sentences)\n",
    "print(s2v.most_similar('' if not sentences else sentences[10], sentences, idf))  # BoV-idf\n",
    "print(s2v.score('' if not sentences else sentences[7], '' if not sentences else sentences[13], idf))"
   ]
  },
  {
   "cell_type": "markdown",
   "metadata": {},
   "source": [
    "# 2) Multilingual (English-French) word embeddings"
   ]
  },
  {
   "cell_type": "markdown",
   "metadata": {},
   "source": [
    "Let's consider a bilingual dictionary of size V_a (e.g French-English).\n",
    "\n",
    "Let's define **X** and **Y** the **French** and **English** matrices.\n",
    "\n",
    "They contain the embeddings associated to the words in the bilingual dictionary.\n",
    "\n",
    "We want to find a **mapping W** that will project the source word space (e.g French) to the target word space (e.g English).\n",
    "\n",
    "Procrustes : **W\\* = argmin || W.X - Y ||  s.t  W^T.W = Id**\n",
    "has a closed form solution:\n",
    "**W = U.V^T  where  U.Sig.V^T = SVD(Y.X^T)**\n",
    "\n",
    "In what follows, you are asked to: "
   ]
  },
  {
   "cell_type": "code",
   "execution_count": 7,
   "metadata": {},
   "outputs": [
    {
     "name": "stdout",
     "output_type": "stream",
     "text": [
      "Loaded 50000 pretrained word vectors\n",
      "Loaded 50000 pretrained word vectors\n"
     ]
    }
   ],
   "source": [
    "# 1 - Download and load 50k first vectors of\n",
    "#     https://s3-us-west-1.amazonaws.com/fasttext-vectors/wiki.en.vec\n",
    "#     https://s3-us-west-1.amazonaws.com/fasttext-vectors/wiki.fr.vec\n",
    "\n",
    "fr_w2v = Word2vec(os.path.join(PATH_TO_DATA, 'wiki.fr.vec'), nmax=50000)\n",
    "en_w2v = Word2vec(os.path.join(PATH_TO_DATA, 'wiki.en.vec'), nmax=50000)"
   ]
  },
  {
   "cell_type": "code",
   "execution_count": 8,
   "metadata": {},
   "outputs": [],
   "source": [
    "# 2 - Get words that appear in both vocabs (= identical character strings)\n",
    "#     Use it to create the matrix X and Y (of aligned embeddings for these words)\n",
    "\n",
    "def identical_words(w2v1, w2v2):\n",
    "    list1= list(w2v1.keys())\n",
    "    list2= list(w2v2.keys())\n",
    "    temp = set(list1) \n",
    "    intersection = [value for value in list2 if value in temp] \n",
    "    return intersection     \n",
    "\n",
    "def get_matrix(w2v, w_list):\n",
    "    X = np.zeros( (len(w_list), 300) )\n",
    "    for i,word in enumerate(w_list):\n",
    "        X[i,:] = w2v[word]\n",
    "    return X\n",
    "    \n",
    "w_list = identical_words(fr_w2v.word2vec,en_w2v.word2vec)\n",
    "X = get_matrix(fr_w2v.word2vec,w_list)\n",
    "Y = get_matrix(en_w2v.word2vec,w_list)"
   ]
  },
  {
   "cell_type": "code",
   "execution_count": null,
   "metadata": {},
   "outputs": [],
   "source": [
    "# 3 - Solve the Procrustes using the scipy package and: scipy.linalg.svd() and get the optimal W\n",
    "#     Now W*French_vector is in the same space as English_vector\n",
    "\n",
    "import scipy.linalg\n",
    "\n",
    "def mapping(X,Y):\n",
    "    U, S, V = scipy.linalg.svd(Y@X.T, full_matrices=True)\n",
    "    return U@V.T\n",
    "\n",
    "W = mapping(X,Y)"
   ]
  },
  {
   "cell_type": "code",
   "execution_count": null,
   "metadata": {},
   "outputs": [],
   "source": [
    "# 4 - After alignment with W, give examples of English nearest neighbors of some French words (and vice versa)\n",
    "#     You will be evaluated on that part and the code above\n",
    "\n",
    "Y_fr = W@X\n",
    "\n",
    "# Get 5 random French words\n",
    "index = np.random.randint(len(W), size=5)\n",
    "\n",
    "def nearest_neighbors(index, fr_w2v, Y_fr, en_w2v, K=5):\n",
    "    similar_words = {}\n",
    "    for i in index:\n",
    "        neighbors = []\n",
    "        dict_scores = {score_emb(Y_fr[i],en_w2v.embeddings[en_w2v.word2id[w]]):w for w in en_w2v.word2vec.keys()}\n",
    "        sorted_scores = sorted(dict_scores.keys())\n",
    "        for k in range(1,K+1):\n",
    "            score = sorted_scores[-k]\n",
    "            neighbors.append([dict_scores[score],score])\n",
    "        similar_words[fr_w2v.id2word[i]] = neighbors\n",
    "    return similar_words\n",
    "                               \n",
    "def score_emb(vec1, vec2):\n",
    "    return np.dot(vec1,vec2) / (np.linalg.norm(vec1) * np.linalg.norm(vec2))\n",
    "                                                            \n",
    "nearest_neighbors(index, fr_w2v, Y_fr, en_w2v, K=5)                      "
   ]
  },
  {
   "cell_type": "markdown",
   "metadata": {},
   "source": [
    "If you want to dive deeper on this subject: https://github.com/facebookresearch/MUSE"
   ]
  },
  {
   "cell_type": "markdown",
   "metadata": {},
   "source": [
    "# 3) Sentence classification with BoV and scikit-learn"
   ]
  },
  {
   "cell_type": "code",
   "execution_count": null,
   "metadata": {},
   "outputs": [],
   "source": [
    "# 1 - Load train/dev/test of Stanford Sentiment TreeBank (SST)\n",
    "#     (https://nlp.stanford.edu/~socherr/EMNLP2013_RNTN.pdf)\n",
    "\n",
    "PATH_TO_DATA = \"./data\"\n",
    "\n",
    "def isolate_class(sentences):\n",
    "    data = []\n",
    "    for i, line in enumerate(sentences):\n",
    "        sentiment, sentence = line.split(' ', 1)\n",
    "        data.append([sentence,sentiment])\n",
    "    return data\n",
    "\n",
    "train = load_sentences(os.path.join(PATH_TO_DATA, 'SST/stsa.fine.train'))\n",
    "dev = load_sentences(os.path.join(PATH_TO_DATA, 'SST/stsa.fine.dev'))\n",
    "test = load_sentences(os.path.join(PATH_TO_DATA, 'SST/stsa.fine.test.X'))\n",
    "\n",
    "train = isolate_class(train)\n",
    "dev = isolate_class(dev)"
   ]
  },
  {
   "cell_type": "code",
   "execution_count": null,
   "metadata": {},
   "outputs": [],
   "source": [
    "# 2 - Encode sentences with the BoV model above\n",
    "w2v = Word2vec(os.path.join(PATH_TO_DATA, 'crawl-300d-200k.vec'), nmax=200000)\n",
    "s2v = BoV(w2v)\n",
    "\n",
    "def encoding(data, s2v):\n",
    "    encoded = []\n",
    "    for s_array in data:\n",
    "        vec = s2v.encode([s_array[0]])\n",
    "        encoded.append([vec, s_array[1]])\n",
    "    return encoded\n",
    "        \n",
    "train_encoded = encoding(train,s2v)\n",
    "dev_encoded = encoding(dev,s2v)\n",
    "test_encoded = s2v.encode(test)"
   ]
  },
  {
   "cell_type": "code",
   "execution_count": null,
   "metadata": {},
   "outputs": [],
   "source": [
    "# 3 - Learn Logistic Regression on top of sentence embeddings using scikit-learn\n",
    "#     (consider tuning the L2 regularization on the dev set)\n",
    "\n",
    "from sklearn.linear_model import LogisticRegression\n",
    "\n",
    "def split(data):\n",
    "    X,y = np.zeros((len(data),300)), np.zeros(len(data))\n",
    "    for i in range(len(data)):\n",
    "        X[i] = data[i][0]\n",
    "        y[i] = data[i][1]\n",
    "    return X,y\n",
    "\n",
    "X_train, y_train = split(train_encoded)\n",
    "X_dev, y_dev = split(dev_encoded)\n",
    "\n",
    "log_reg = LogisticRegression()\n",
    "log_reg.fit(X_train,y_train)\n",
    "\n",
    "# y_train_pred = log_reg.predict(X_train)\n",
    "# y_dev_pred = log_reg.predict(X_dev)\n",
    "\n",
    "score_train = log_reg.score(X_train, y_train)\n",
    "score_dev = log_reg.score(X_dev, y_dev)\n",
    "\n",
    "print(\"accuracy on training set: \", score_train)\n",
    "print(\"accuracy on dev set: \", score_dev)"
   ]
  },
  {
   "cell_type": "code",
   "execution_count": null,
   "metadata": {},
   "outputs": [],
   "source": [
    "# 4 - Produce 2210 predictions for the test set (in the same order). One line = one prediction (=0,1,2,3,4).\n",
    "#     Attach the output file \"logreg_bov_y_test_sst.txt\" to your deliverable.\n",
    "#     You will be evaluated on the results of the test set.\n",
    "\n",
    "X_test = test_encoded\n",
    "y_test = log_reg.predict(X_test)\n",
    "\n",
    "with io.open('logreg_bov_y_test_sst.txt', 'w') as f:\n",
    "    for y in y_test:\n",
    "        f.write(\"%s\\n\" % e)"
   ]
  },
  {
   "cell_type": "code",
   "execution_count": null,
   "metadata": {},
   "outputs": [],
   "source": [
    "# BONUS!\n",
    "# 5 - Try to improve performance with another classifier\n",
    "#     Attach the output file \"XXX_bov_y_test_sst.txt\" to your deliverable (where XXX = the name of the classifier)\n",
    "\n",
    "from xgboost import XGBClassifier\n",
    "\n",
    "xgb = XGBClassifier(max_depth=10)\n",
    "xgb.fit(X_train,y_train)\n",
    "\n",
    "X_test = test_encoded\n",
    "y_test = log_reg.predict(X_test)\n",
    "\n",
    "with io.open('XGB_bov_y_test_sst.txt', 'w') as f:\n",
    "    for y in y_test:\n",
    "        f.write(\"%s\\n\" % e)"
   ]
  },
  {
   "cell_type": "markdown",
   "metadata": {},
   "source": [
    "# 4) Sentence classification with LSTMs in Keras"
   ]
  },
  {
   "cell_type": "markdown",
   "metadata": {},
   "source": [
    "## 4.1 - Preprocessing"
   ]
  },
  {
   "cell_type": "code",
   "execution_count": null,
   "metadata": {},
   "outputs": [],
   "source": [
    "import keras"
   ]
  },
  {
   "cell_type": "code",
   "execution_count": null,
   "metadata": {},
   "outputs": [],
   "source": [
    "# 1 - Load train/dev/test sets of SST\n",
    "PATH_TO_DATA = \"./data/\"\n",
    "\n",
    "train = load_sentences(os.path.join(PATH_TO_DATA, 'SST/stsa.fine.train'))\n",
    "dev = load_sentences(os.path.join(PATH_TO_DATA, 'SST/stsa.fine.dev'))\n",
    "test = load_sentences(os.path.join(PATH_TO_DATA, 'SST/stsa.fine.test.X'))\n",
    "\n",
    "train = isolate_class(train)\n",
    "dev = isolate_class(dev)"
   ]
  },
  {
   "cell_type": "code",
   "execution_count": null,
   "metadata": {},
   "outputs": [],
   "source": [
    "# 2 - Transform text to integers using keras.preprocessing.text.one_hot function\n",
    "#     https://keras.io/preprocessing/text/\n",
    "\n",
    "from keras.preprocessing.text import text_to_word_sequence, one_hot\n",
    "\n",
    "def voc_size(*args):\n",
    "    r = []\n",
    "    for a in args:\n",
    "        for w in a:\n",
    "            if w not in r:\n",
    "                r.append(w)\n",
    "    return len(r)\n",
    "        \n",
    "def text_to_int(sentences, voc_size):\n",
    "    num = []\n",
    "    for s in sentences:\n",
    "        num.append(one_hot(s, voc_size))\n",
    "    return num\n",
    "\n",
    "# isolating sentences list\n",
    "train_sentences = np.array(train).T[0]\n",
    "dev_sentences = np.array(dev).T[0]\n",
    "test_sentences = test\n",
    "    \n",
    "n = voc_size(train_sentences,dev_sentences, test_sentences)\n",
    "\n",
    "train_int = text_to_int(train_sentences, n)\n",
    "dev_int = text_to_int(dev_sentences, n)\n",
    "test_int = text_to_int(test_sentences, n)"
   ]
  },
  {
   "cell_type": "markdown",
   "metadata": {},
   "source": [
    "**Padding input data**\n",
    "\n",
    "Models in Keras (and elsewhere) take batches of sentences of the same length as input. It is because Deep Learning framework have been designed to handle well Tensors, which are particularly suited for fast computation on the GPU.\n",
    "\n",
    "Since sentences have different sizes, we \"pad\" them. That is, we add dummy \"padding\" tokens so that they all have the same length.\n",
    "\n",
    "The input to a Keras model thus has this size : (batchsize, maxseqlen) where maxseqlen is the maximum length of a sentence in the batch."
   ]
  },
  {
   "cell_type": "code",
   "execution_count": null,
   "metadata": {},
   "outputs": [],
   "source": [
    "# 3 - Pad your sequences using keras.preprocessing.sequence.pad_sequences\n",
    "#     https://keras.io/preprocessing/sequence/\n",
    "\n",
    "# TYPE CODE HERE\n",
    "from keras.preprocessing import sequence\n",
    "\n",
    "def max_len(*args):\n",
    "    result = 0\n",
    "    for a in args:\n",
    "        size = len(max(a,key=len))\n",
    "        if size > result: result = size\n",
    "    return result\n",
    "\n",
    "maxlen = max_len(train_int,dev_int,test_int)\n",
    "\n",
    "train_pad = sequence.pad_sequences(train_int,maxlen)\n",
    "dev_pad = sequence.pad_sequences(dev_int,maxlen)\n",
    "test_pad = sequence.pad_sequences(test_int,maxlen)"
   ]
  },
  {
   "cell_type": "markdown",
   "metadata": {},
   "source": [
    "## 4.2 - Design and train your model"
   ]
  },
  {
   "cell_type": "code",
   "execution_count": null,
   "metadata": {},
   "outputs": [],
   "source": [
    "# 4 - Design your encoder + classifier using keras.layers\n",
    "#     In Keras, Torch and other deep learning framework, we create a \"container\" which is the Sequential() module.\n",
    "#     Then we add components to this contained : the lookuptable, the LSTM, the classifier etc.\n",
    "#     All of these components are contained in the Sequential() and are trained together.\n",
    "\n",
    "from keras.models import Sequential\n",
    "from keras.layers import Embedding, LSTM, Dense, Activation, Dropout\n",
    "\n",
    "embed_dim  = maxlen  # word embedding dimension\n",
    "nhid       = 64  # number of hidden units in the LSTM\n",
    "vocab_size = n  # size of the vocabulary\n",
    "n_classes  = 5\n",
    "ndrop = 0.4 # dropout\n",
    "ndense = 64 # number of hidden units in the Dense layer\n",
    "\n",
    "model = Sequential()\n",
    "model.add(Embedding(vocab_size, embed_dim))\n",
    "model.add(LSTM(nhid))\n",
    "model.add(Dropout(ndrop))\n",
    "model.add(Dense(ndense))\n",
    "model.add(Dense(n_classes, activation='sigmoid'))"
   ]
  },
  {
   "cell_type": "code",
   "execution_count": null,
   "metadata": {
    "scrolled": true
   },
   "outputs": [],
   "source": [
    "# 5 - Define your loss/optimizer/metrics\n",
    "\n",
    "# MODIFY CODE BELOW\n",
    "\n",
    "loss_classif     =  'categorical_crossentropy' # find the right loss for multi-class classification\n",
    "optimizer        =  'adam' # find the right optimizer\n",
    "metrics_classif  =  ['accuracy']\n",
    "\n",
    "# Observe how easy (but blackboxed) this is in Keras\n",
    "model.compile(loss=loss_classif,\n",
    "              optimizer=optimizer,\n",
    "              metrics=metrics_classif)\n",
    "print(model.summary())"
   ]
  },
  {
   "cell_type": "code",
   "execution_count": null,
   "metadata": {
    "scrolled": true
   },
   "outputs": [],
   "source": [
    "# 6 - Train your model and find the best hyperparameters for your dev set\n",
    "#     you will be evaluated on the quality of your predictions on the test set\n",
    "\n",
    "from keras.utils import to_categorical\n",
    "from keras.callbacks import Callback\n",
    "import matplotlib.pyplot as plt\n",
    "\n",
    "bs = 64\n",
    "n_epochs = 6\n",
    "\n",
    "X_train = train_pad\n",
    "y_train = to_categorical(np.array(train).T[1]) \n",
    "X_dev = dev_pad\n",
    "y_dev = to_categorical(np.array(dev).T[1])\n",
    "\n",
    "class SaveEpoch(Callback):\n",
    "    def __init__(self, logs={}):\n",
    "        self.train_epoch = []\n",
    "        self.dev_epoch = []\n",
    "        self.loss = []\n",
    "\n",
    "    def on_epoch_end(self, epoch, logs={}):\n",
    "        self.train_epoch.append(logs.get('acc'))\n",
    "        self.dev_epoch.append(logs.get('val_acc'))   \n",
    "        self.loss.append(logs.get('loss'))\n",
    "    \n",
    "save = SaveEpoch()\n",
    "\n",
    "model.fit(X_train, y_train,\n",
    "          batch_size=bs,\n",
    "          nb_epoch=n_epochs,\n",
    "          validation_data=(X_dev, y_dev),\n",
    "          callbacks=[save])\n",
    "\n",
    "fig = plt.figure(figsize=(15,5))\n",
    "ax1 = fig.add_subplot(121)\n",
    "ax1.set_title('train & dev accuracy at each epoch')\n",
    "ax1.plot(save.train_epoch, label='train')\n",
    "ax1.plot(save.dev_epoch, label='dev')\n",
    "ax1.set_xlabel('epochs')\n",
    "ax1.set_ylabel('accuracy')\n",
    "ax1.legend()\n",
    "\n",
    "ax2 = fig.add_subplot(122)\n",
    "ax2.set_title('loss at each epoch')\n",
    "ax2.plot(save.loss)\n",
    "ax2.set_xlabel('epochs')\n",
    "ax2.set_ylabel('loss')"
   ]
  },
  {
   "cell_type": "code",
   "execution_count": null,
   "metadata": {},
   "outputs": [],
   "source": [
    "# 7 - Generate your predictions on the test set using model.predict(x_test)\n",
    "#     https://keras.io/models/model/\n",
    "#     Log your predictions in a file (one line = one integer: 0,1,2,3,4)\n",
    "#     Attach the output file \"logreg_lstm_y_test_sst.txt\" to your deliverable.\n",
    "\n",
    "X_test = test_pad\n",
    "y_test_pred = model.predict(X_test)\n",
    "\n",
    "with io.open('logreg_lstm_y_test_sst.txt', 'w') as f:\n",
    "    for y in y_test_pred:\n",
    "        f.write(\"%s\\n\" % e)"
   ]
  },
  {
   "cell_type": "markdown",
   "metadata": {},
   "source": [
    "## 4.3 -- innovate !"
   ]
  },
  {
   "cell_type": "code",
   "execution_count": null,
   "metadata": {},
   "outputs": [],
   "source": [
    "# 8 - Open question: find a model that is better on your dev set\n",
    "#     (e.g: use a 1D ConvNet, use a better classifier, pretrain your lookup tables ..)\n",
    "#     you will get point if the results on the test set are better: be careful of not overfitting your dev set too much..\n",
    "#     Attach the output file \"XXX_XXX_y_test_sst.txt\" to your deliverable.\n",
    "\n",
    "# preprocessing: encoding of sentences with our w2v model\n",
    "w2v = Word2vec(os.path.join(PATH_TO_DATA, 'crawl-300d-200k.vec'), nmax=200000)\n",
    "\n",
    "def new_encoding(sentences, w2v, idf=False):\n",
    "    encoding = []    \n",
    "    for sent in sentences:\n",
    "        sentemb = []\n",
    "        if idf is False:\n",
    "            words_emb = [w2v.embeddings[w2v.word2id[word]] for word in sent.split() if word in w2v.word2id]\n",
    "            if len(words_emb) != 0:\n",
    "                sentemb = words_emb\n",
    "        else:\n",
    "            words_emb = [w2v.embeddings[w2v.word2id[word]]*idf[word] for word in sent.split() if word in w2v.word2id]\n",
    "            if len(words_emb) != 0:\n",
    "                sentemb = words_emb\n",
    "        encoding.append(sentemb)\n",
    "    return encoding\n",
    "\n",
    "def new_padding(sentences, maxlen):\n",
    "    padded = np.zeros(( len(sentences), maxlen, len(sentences[0][0]) ))\n",
    "    for i, sentence in enumerate(sentences):\n",
    "        for j, word in enumerate(sentences[i]):\n",
    "            padded[i][j][:] = word\n",
    "    return padded\n",
    "    \n",
    "train_encoded = new_encoding(np.array(train).T[0],w2v)\n",
    "dev_encoded = new_encoding(np.array(dev).T[0],w2v)\n",
    "test_encoded = new_encoding(test,w2v)\n",
    "\n",
    "maxlen = max_len(train_encoded,dev_encoded,test_encoded)\n",
    "\n",
    "train_pad = new_padding(train_encoded,maxlen)\n",
    "dev_pad = new_padding(dev_encoded,maxlen)\n",
    "test_pad = new_padding(test_encoded,maxlen)"
   ]
  },
  {
   "cell_type": "code",
   "execution_count": null,
   "metadata": {},
   "outputs": [],
   "source": [
    "# encoder design: add convolutions\n",
    "\n",
    "from keras.layers import Conv1D, MaxPooling1D\n",
    "\n",
    "emb_dim  = maxlen  # word embedding dimension\n",
    "nhid       = 64  # number of hidden units in the LSTM\n",
    "emb_size = 300  # size of the embedded word vector\n",
    "n_classes  = 5\n",
    "ndrop = 0.4 # dropout\n",
    "ndense = 64 # number of hidden units in the Dense layer\n",
    "nconv = 64 # number of filters in the Conv layer\n",
    "sconv = 5 # size of convolution filter\n",
    "pool_size = 4 # pooling size\n",
    "\n",
    "model = Sequential()\n",
    "model.add(Conv1D(nconv, sconv, activation = 'relu', input_shape = (emb_dim,emb_size)))\n",
    "model.add(MaxPooling1D(pool_size))\n",
    "model.add(LSTM(nhid))\n",
    "model.add(Dropout(ndrop))\n",
    "model.add(Dense(ndense))\n",
    "model.add(Dense(n_classes, activation='sigmoid'))"
   ]
  },
  {
   "cell_type": "code",
   "execution_count": null,
   "metadata": {},
   "outputs": [],
   "source": [
    "# compilation\n",
    "\n",
    "loss_classif     =  'categorical_crossentropy' # find the right loss for multi-class classification\n",
    "optimizer        =  'adam' # find the right optimizer\n",
    "metrics_classif  =  ['accuracy']\n",
    "\n",
    "model.compile(loss=loss_classif,\n",
    "              optimizer=optimizer,\n",
    "              metrics=metrics_classif)\n",
    "\n",
    "print(model.summary())"
   ]
  },
  {
   "cell_type": "code",
   "execution_count": null,
   "metadata": {
    "scrolled": true
   },
   "outputs": [],
   "source": [
    "# training\n",
    "\n",
    "bs = 64\n",
    "n_epochs = 6\n",
    "\n",
    "X_train = train_pad\n",
    "y_train = to_categorical(np.array(train).T[1]) \n",
    "X_dev = dev_pad\n",
    "y_dev = to_categorical(np.array(dev).T[1])\n",
    "    \n",
    "save = SaveEpoch()\n",
    "\n",
    "model.fit(X_train, y_train,\n",
    "          batch_size=bs,\n",
    "          nb_epoch=n_epochs,\n",
    "          validation_data=(X_dev, y_dev),\n",
    "          callbacks=[save])\n",
    "\n",
    "fig = plt.figure(figsize=(15,5))\n",
    "ax1 = fig.add_subplot(121)\n",
    "ax1.set_title('train & dev accuracy at each epoch')\n",
    "ax1.plot(save.train_epoch, label='train')\n",
    "ax1.plot(save.dev_epoch, label='dev')\n",
    "ax1.set_xlabel('epochs')\n",
    "ax1.set_ylabel('accuracy')\n",
    "ax1.legend()\n",
    "\n",
    "ax2 = fig.add_subplot(122)\n",
    "ax2.set_title('loss at each epoch')\n",
    "ax2.plot(save.loss)\n",
    "ax2.set_xlabel('epochs')\n",
    "ax2.set_ylabel('loss')"
   ]
  },
  {
   "cell_type": "code",
   "execution_count": null,
   "metadata": {},
   "outputs": [],
   "source": [
    "# Generating predictions \n",
    "\n",
    "X_test = test_pad\n",
    "y_test_pred = model.predict(X_test)\n",
    "\n",
    "with io.open('w2vemb_conv_y_test_sst.txt', 'w') as f:\n",
    "    for y in y_test_pred:\n",
    "        f.write(\"%s\\n\" % e)"
   ]
  },
  {
   "cell_type": "code",
   "execution_count": null,
   "metadata": {},
   "outputs": [],
   "source": []
  }
 ],
 "metadata": {
  "kernelspec": {
   "display_name": "Python 3",
   "language": "python",
   "name": "python3"
  },
  "language_info": {
   "codemirror_mode": {
    "name": "ipython",
    "version": 3
   },
   "file_extension": ".py",
   "mimetype": "text/x-python",
   "name": "python",
   "nbconvert_exporter": "python",
   "pygments_lexer": "ipython3",
   "version": "3.6.5"
  }
 },
 "nbformat": 4,
 "nbformat_minor": 1
}
